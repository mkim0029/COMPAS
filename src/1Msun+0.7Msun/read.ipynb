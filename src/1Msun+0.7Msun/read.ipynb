{
 "cells": [
  {
   "cell_type": "code",
   "execution_count": 1,
   "metadata": {},
   "outputs": [],
   "source": [
    "import os, sys    # for handling paths\n",
    "import h5py as h5  #for handling data format\n",
    "import matplotlib.pyplot as plt\n",
    "import pandas as pd\n",
    "import numpy as np\n",
    "import seaborn as sns"
   ]
  },
  {
   "cell_type": "code",
   "execution_count": 2,
   "metadata": {},
   "outputs": [],
   "source": [
    "def restrict(df, col, lower_limit, upper_limit):\n",
    "    mask = (df[col] >= lower_limit) & (df[col] <= upper_limit)\n",
    "    return df[mask]"
   ]
  },
  {
   "cell_type": "code",
   "execution_count": 3,
   "metadata": {},
   "outputs": [],
   "source": [
    "df1 = pd.read_csv('BSE_System_Parameters.csv', sep = ',', header = 2)"
   ]
  },
  {
   "cell_type": "code",
   "execution_count": 5,
   "metadata": {},
   "outputs": [],
   "source": [
    "mergers = restrict(df1, 'Merger', 1, 1)\n",
    "non_mergers = restrict(df1, 'Merger', 0, 0)\n",
    "MS_mergers = restrict(restrict(df1, 'Merger', 1, 1), 'Stellar_Type(1)', 0, 1)"
   ]
  },
  {
   "cell_type": "code",
   "execution_count": 6,
   "metadata": {},
   "outputs": [
    {
     "name": "stdout",
     "output_type": "stream",
     "text": [
      "Total merger fraction:  0.087248322147651\n",
      "MS merger fraction:  0.0\n"
     ]
    }
   ],
   "source": [
    "print('Total merger fraction: ', mergers.shape[0]/df1.shape[0])\n",
    "print('MS merger fraction: ', MS_mergers.shape[0]/df1.shape[0])"
   ]
  }
 ],
 "metadata": {
  "kernelspec": {
   "display_name": "Python 3",
   "language": "python",
   "name": "python3"
  },
  "language_info": {
   "codemirror_mode": {
    "name": "ipython",
    "version": 3
   },
   "file_extension": ".py",
   "mimetype": "text/x-python",
   "name": "python",
   "nbconvert_exporter": "python",
   "pygments_lexer": "ipython3",
   "version": "3.10.12"
  }
 },
 "nbformat": 4,
 "nbformat_minor": 4
}

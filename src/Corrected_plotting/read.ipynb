{
 "cells": [
  {
   "cell_type": "code",
   "execution_count": 1,
   "metadata": {
    "scrolled": true
   },
   "outputs": [
    {
     "name": "stdout",
     "output_type": "stream",
     "text": [
      "Defaulting to user installation because normal site-packages is not writeable\n",
      "Requirement already satisfied: numpy in /home/minjihkim/.local/lib/python3.10/site-packages (1.26.4)\n",
      "Requirement already satisfied: h5py in /home/minjihkim/.local/lib/python3.10/site-packages (3.11.0)\n",
      "Requirement already satisfied: pandas in /home/minjihkim/.local/lib/python3.10/site-packages (2.2.2)\n",
      "Requirement already satisfied: tzdata>=2022.7 in /home/minjihkim/.local/lib/python3.10/site-packages (from pandas) (2024.1)\n",
      "Requirement already satisfied: python-dateutil>=2.8.2 in /home/minjihkim/.local/lib/python3.10/site-packages (from pandas) (2.9.0.post0)\n",
      "Requirement already satisfied: pytz>=2020.1 in /usr/lib/python3/dist-packages (from pandas) (2022.1)\n",
      "Requirement already satisfied: six>=1.5 in /usr/lib/python3/dist-packages (from python-dateutil>=2.8.2->pandas) (1.16.0)\n"
     ]
    }
   ],
   "source": [
    "! pip install numpy h5py pandas"
   ]
  },
  {
   "cell_type": "code",
   "execution_count": 3,
   "metadata": {},
   "outputs": [],
   "source": [
    "import h5py as h5  #for handling data format\n",
    "import matplotlib.pyplot as plt\n",
    "import pandas as pd\n",
    "import numpy as np\n",
    "#import seaborn as sns"
   ]
  },
  {
   "cell_type": "code",
   "execution_count": 4,
   "metadata": {},
   "outputs": [],
   "source": [
    "def restrict(df, col, lower_limit, upper_limit):\n",
    "    mask = (df[col] >= lower_limit) & (df[col] <= upper_limit)\n",
    "    return df[mask]"
   ]
  },
  {
   "cell_type": "code",
   "execution_count": 5,
   "metadata": {},
   "outputs": [],
   "source": [
    "def load_data(filename, mode):\n",
    "    data = h5.File(filename)\n",
    "    SP = data[mode + '_System_Parameters']\n",
    "\n",
    "    if mode == 'BSE': \n",
    "        df = pd.DataFrame({\n",
    "            'L1': SP['Luminosity(1)'][()],\n",
    "            'L2': SP['Luminosity(2)'][()],\n",
    "            'Teff1': SP['Teff(1)'][()],\n",
    "            'Teff2': SP['Teff(2)'][()],\n",
    "            'type1': SP['Stellar_Type(1)'][()],\n",
    "            'type2': SP['Stellar_Type(2)'][()]\n",
    "        })\n",
    "            \n",
    "    else:\n",
    "        df = pd.DataFrame({\n",
    "           'L': SP['Luminosity'][()],\n",
    "           'Teff': SP['Teff'][()],\n",
    "           'type': SP['Stellar_Type'][()]\n",
    "        })\n",
    "\n",
    "    return df"
   ]
  },
  {
   "cell_type": "markdown",
   "metadata": {},
   "source": [
    "Inspect the data:\n",
    "Data_SSE  = h5.File('COMPAS_Output_SSE.h5')\n",
    "list(Data_SSE.keys())\n",
    "\n",
    "Inspect mergers:\n",
    "CE_BSE = Data_BSE['BSE_Common_Envelopes']\n",
    "#list(CE_BSE.keys())\n",
    "merger = CE_BSE['Merger'][()]\n",
    "print(merger.shape)     \n",
    "\n",
    "Print log file keys (e.g. system parameter keys):\n",
    "list(SP_BSE.keys())"
   ]
  },
  {
   "cell_type": "markdown",
   "metadata": {},
   "source": [
    "Finding the unit of a parameter:\n",
    "print(SP_BSE['Teff(1)'].attrs['units'])\n",
    "print(SP_BSE['Luminosity(1)'].attrs['units'])"
   ]
  },
  {
   "cell_type": "code",
   "execution_count": 6,
   "metadata": {},
   "outputs": [],
   "source": [
    "binary = load_data('COMPAS_Output_2.h5', 'BSE')\n",
    "single = load_data('COMPAS_Output_SSE.h5', 'SSE')"
   ]
  },
  {
   "cell_type": "code",
   "execution_count": 7,
   "metadata": {},
   "outputs": [],
   "source": [
    "single_MS = restrict(single, 'type', 1, 1) #MS stars only"
   ]
  },
  {
   "cell_type": "code",
   "execution_count": 8,
   "metadata": {},
   "outputs": [],
   "source": [
    "binary_merger = restrict(restrict(binary, 'type1', 1, 1), 'type2', 15, 15) #merger products only"
   ]
  },
  {
   "cell_type": "code",
   "execution_count": 10,
   "metadata": {},
   "outputs": [],
   "source": [
    "binary_MS = restrict(restrict(binary, 'type1', 1, 1), 'type2', 1, 1) #MS stars only"
   ]
  },
  {
   "cell_type": "code",
   "execution_count": 11,
   "metadata": {},
   "outputs": [],
   "source": [
    "binary1 = load_data('COMPAS_Output_1.h5', 'BSE')\n",
    "binary_merger1 = restrict(restrict(binary1, 'type1', 1, 1), 'type2', 15, 15) #merger products only"
   ]
  },
  {
   "cell_type": "code",
   "execution_count": 12,
   "metadata": {},
   "outputs": [],
   "source": [
    "binary3 = load_data('COMPAS_Output_3.h5', 'BSE')\n",
    "binary_merger3 = restrict(restrict(binary3, 'type1', 1, 1), 'type2', 15, 15) #merger products only"
   ]
  },
  {
   "cell_type": "code",
   "execution_count": 25,
   "metadata": {},
   "outputs": [],
   "source": [
    "binary_t = load_data('COMPAS_Output_tide.h5', 'BSE')\n",
    "binary_merger_t = restrict(restrict(binary_t, 'type1', 1, 1), 'type2', 15, 15) #merger products only\n",
    "\n",
    "binary_tK = load_data('COMPAS_Output_tide_K.h5', 'BSE')\n",
    "binary_merger_tK = restrict(restrict(binary_tK, 'type1', 1, 1), 'type2', 15, 15) #merger products only\n",
    "\n",
    "binary_VLT = load_data('COMPAS_Output_VLT.h5', 'BSE')\n",
    "binary_merger_VLT = restrict(restrict(binary_VLT, 'type1', 1, 1), 'type2', 15, 15) #merger products only"
   ]
  },
  {
   "cell_type": "code",
   "execution_count": 43,
   "metadata": {},
   "outputs": [],
   "source": [
    "binary_l = load_data('COMPAS_Output_low.h5', 'BSE')\n",
    "binary_merger_l = restrict(restrict(binary_l, 'type1', 1, 1), 'type2', 15, 15) #merger products only\n",
    "\n",
    "binary_l2 = load_data('COMPAS_Output_low2.h5', 'BSE')\n",
    "binary_merger_l2 = restrict(restrict(binary_l2, 'type1', 1, 1), 'type2', 15, 15) #merger products only\n",
    "\n",
    "binary_l2_t = load_data('COMPAS_Output_low2_tide.h5', 'BSE')\n",
    "binary_merger_l2_t = restrict(restrict(binary_l2_t, 'type1', 1, 1), 'type2', 15, 15) #merger products only\n",
    "\n",
    "binary_l2_t_80 = load_data('COMPAS_Output_low2_tide_80.h5', 'BSE')\n",
    "binary_merger_l2_t_80 = restrict(restrict(binary_l2_t_80, 'type1', 1, 1), 'type2', 15, 15) #merger products only"
   ]
  },
  {
   "cell_type": "markdown",
   "metadata": {},
   "source": [
    "HRD (Main sequence)"
   ]
  },
  {
   "cell_type": "code",
   "execution_count": 59,
   "metadata": {},
   "outputs": [
    {
     "data": {
      "text/plain": [
       "<matplotlib.legend.Legend at 0x771a6fe069b0>"
      ]
     },
     "execution_count": 59,
     "metadata": {},
     "output_type": "execute_result"
    },
    {
     "data": {
      "image/png": "[encoded data removed]",
      "text/plain": [
       "<Figure size 800x700 with 1 Axes>"
      ]
     },
     "metadata": {},
     "output_type": "display_data"
    }
   ],
   "source": [
    "plt.figure(figsize=(8,7))\n",
    "#plt.scatter(binary_MS.Teff1, binary_MS.L1, label = 'Primary', s = 2)\n",
    "#plt.scatter(binary_MS.Teff2, binary_MS.L2, label = 'Secondary', s = 2)\n",
    "#plt.scatter(binary_merger.Teff1, binary_merger.L1, label = 'Merger product: max_a = 2', s = 2)\n",
    "#plt.scatter(binary_merger1.Teff1, binary_merger1.L1, label = 'Merger product: max_a = default', s = 2)\n",
    "#plt.scatter(binary_merger3.Teff1, binary_merger3.L1, label = 'Merger product: max_a = 0.08', s = 2)\n",
    "#plt.scatter(binary_merger_t.Teff1, binary_merger_t.L1, label = 'Merger product: PERFECT tide', s = 2)\n",
    "#plt.scatter(binary_merger_tK.Teff1, binary_merger_tK.L1, label = 'Merger product: KAPIL2024 tide', s = 2)\n",
    "#plt.scatter(binary_merger_VLT.Teff1, binary_merger_VLT.L1, label = 'Merger product: KAPIL2024 tide + VLT', s = 2)\n",
    "#plt.scatter(binary_merger_l.Teff1, binary_merger_l.L1, label = 'Merger product: low mass', s = 2)\n",
    "plt.scatter(binary_merger_l2.Teff1, binary_merger_l2.L1, label = 'Merger product: low mass x 2', s = 2)\n",
    "#plt.scatter(binary_merger_l2_t_80.Teff1, binary_merger_l2_t_80.L1, label = 'Merger product: low mass x 2 + tide + 80Myr', s = 2)\n",
    "#plt.scatter(binary_merger_l2_t.Teff1, binary_merger_l2_t.L1, label = 'Merger product: low mass x 2 + tide', s = 2)\n",
    "plt.scatter(single_MS.Teff, single_MS.L, label = 'Single', s = 2)\n",
    "#plt.xlim((6000, 18000))\n",
    "plt.gca().invert_xaxis()\n",
    "plt.title('HRD')\n",
    "plt.xlabel('Effective temperature (K)')\n",
    "plt.ylabel('Luminosity (Lsun)')\n",
    "plt.yscale('log')\n",
    "plt.legend()\n",
    "#plt.ylim((np.min(single_MS.L), 1e2))"
   ]
  },
  {
   "cell_type": "code",
   "execution_count": null,
   "metadata": {},
   "outputs": [],
   "source": []
  }
 ],
 "metadata": {
  "kernelspec": {
   "display_name": "Python 3",
   "language": "python",
   "name": "python3"
  },
  "language_info": {
   "codemirror_mode": {
    "name": "ipython",
    "version": 3
   },
   "file_extension": ".py",
   "mimetype": "text/x-python",
   "name": "python",
   "nbconvert_exporter": "python",
   "pygments_lexer": "ipython3",
   "version": "3.10.12"
  }
 },
 "nbformat": 4,
 "nbformat_minor": 4
}

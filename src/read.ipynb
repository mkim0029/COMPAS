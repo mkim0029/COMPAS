{
 "cells": [
  {
   "cell_type": "code",
   "execution_count": 1,
   "metadata": {
    "scrolled": true
   },
   "outputs": [
    {
     "name": "stdout",
     "output_type": "stream",
     "text": [
      "Requirement already satisfied: numpy in c:\\users\\minji\\anaconda3\\lib\\site-packages (1.21.5)\n",
      "Requirement already satisfied: h5py in c:\\users\\minji\\anaconda3\\lib\\site-packages (3.7.0)\n",
      "Requirement already satisfied: pandas in c:\\users\\minji\\anaconda3\\lib\\site-packages (1.4.4)\n",
      "Requirement already satisfied: python-dateutil>=2.8.1 in c:\\users\\minji\\anaconda3\\lib\\site-packages (from pandas) (2.8.2)\n",
      "Requirement already satisfied: pytz>=2020.1 in c:\\users\\minji\\anaconda3\\lib\\site-packages (from pandas) (2022.1)\n",
      "Requirement already satisfied: six>=1.5 in c:\\users\\minji\\anaconda3\\lib\\site-packages (from python-dateutil>=2.8.1->pandas) (1.16.0)\n"
     ]
    }
   ],
   "source": [
    "! pip install numpy h5py pandas"
   ]
  },
  {
   "cell_type": "code",
   "execution_count": 2,
   "metadata": {},
   "outputs": [],
   "source": [
    "import os, sys    # for handling paths\n",
    "import h5py as h5  #for handling data format\n",
    "import matplotlib.pyplot as plt"
   ]
  },
  {
   "cell_type": "markdown",
   "metadata": {},
   "source": [
    "Load the data (in h5 format)"
   ]
  },
  {
   "cell_type": "code",
   "execution_count": 3,
   "metadata": {},
   "outputs": [],
   "source": [
    "Data1  = h5.File('COMPAS_Output.h5')\n",
    "Data2  = h5.File('COMPAS_Output_2.h5')"
   ]
  },
  {
   "cell_type": "markdown",
   "metadata": {},
   "source": [
    "Inspect the data"
   ]
  },
  {
   "cell_type": "code",
   "execution_count": 4,
   "metadata": {},
   "outputs": [
    {
     "data": {
      "text/plain": [
       "['BSE_Common_Envelopes',\n",
       " 'BSE_Double_Compact_Objects',\n",
       " 'BSE_RLOF',\n",
       " 'BSE_System_Parameters',\n",
       " 'Run_Details']"
      ]
     },
     "execution_count": 4,
     "metadata": {},
     "output_type": "execute_result"
    }
   ],
   "source": [
    "list(Data1.keys())"
   ]
  },
  {
   "cell_type": "code",
   "execution_count": 5,
   "metadata": {},
   "outputs": [
    {
     "data": {
      "text/plain": [
       "['Run_Details', 'SSE_Supernovae', 'SSE_System_Parameters']"
      ]
     },
     "execution_count": 5,
     "metadata": {},
     "output_type": "execute_result"
    }
   ],
   "source": [
    "list(Data2.keys())"
   ]
  },
  {
   "cell_type": "code",
   "execution_count": 31,
   "metadata": {},
   "outputs": [
    {
     "name": "stdout",
     "output_type": "stream",
     "text": [
      "(19898,)\n",
      "[1 1 1 1 0]\n"
     ]
    }
   ],
   "source": [
    "CE1 = Data1['BSE_Common_Envelopes']\n",
    "list(CE1.keys())\n",
    "merger = CE1['Merger'][()]\n",
    "print(merger.shape)                   # number of systems in this file\n",
    "print(merger[:5])                    # the values of the first 3 entries"
   ]
  },
  {
   "cell_type": "code",
   "execution_count": 6,
   "metadata": {},
   "outputs": [],
   "source": [
    "SP1 = Data1['BSE_System_Parameters']\n",
    "SP2 = Data2['SSE_System_Parameters']"
   ]
  },
  {
   "cell_type": "code",
   "execution_count": 7,
   "metadata": {},
   "outputs": [
    {
     "data": {
      "text/plain": [
       "['ID',\n",
       " 'Luminosity(1)',\n",
       " 'Luminosity(2)',\n",
       " 'Mass@ZAMS(1)',\n",
       " 'Mass@ZAMS(2)',\n",
       " 'Record_Type',\n",
       " 'SEED',\n",
       " 'Teff(1)',\n",
       " 'Teff(2)']"
      ]
     },
     "execution_count": 7,
     "metadata": {},
     "output_type": "execute_result"
    }
   ],
   "source": [
    "list(SP1.keys())"
   ]
  },
  {
   "cell_type": "code",
   "execution_count": 8,
   "metadata": {},
   "outputs": [
    {
     "data": {
      "text/plain": [
       "['Ang_Momentum',\n",
       " 'CH_on_MS',\n",
       " 'Evolution_Status',\n",
       " 'Luminosity',\n",
       " 'Mass',\n",
       " 'Mass@ZAMS',\n",
       " 'Mass_Env',\n",
       " 'Metallicity@ZAMS',\n",
       " 'Omega@ZAMS',\n",
       " 'PO_LBV_Factor',\n",
       " 'PO_Sigma_Kick_CCSN_BH',\n",
       " 'PO_Sigma_Kick_CCSN_NS',\n",
       " 'PO_Sigma_Kick_ECSN',\n",
       " 'PO_Sigma_Kick_USSN',\n",
       " 'PO_WR_Factor',\n",
       " 'Radius@ZAMS',\n",
       " 'Record_Type',\n",
       " 'SEED',\n",
       " 'SN_Kick_Magnitude_Random_Number',\n",
       " 'Stellar_Type',\n",
       " 'Stellar_Type@ZAMS',\n",
       " 'Teff']"
      ]
     },
     "execution_count": 8,
     "metadata": {},
     "output_type": "execute_result"
    }
   ],
   "source": [
    "# It is a pain to write the entire group each time so we define shorthands\n",
    "list(SP2.keys())"
   ]
  },
  {
   "cell_type": "markdown",
   "metadata": {},
   "source": [
    "Finding the unit of a parameter"
   ]
  },
  {
   "cell_type": "code",
   "execution_count": 10,
   "metadata": {},
   "outputs": [
    {
     "name": "stdout",
     "output_type": "stream",
     "text": [
      "b'K'\n"
     ]
    }
   ],
   "source": [
    "print(SP1['Teff(1)'].attrs['units']) # attrs refers to attributes"
   ]
  },
  {
   "cell_type": "code",
   "execution_count": 11,
   "metadata": {},
   "outputs": [
    {
     "name": "stdout",
     "output_type": "stream",
     "text": [
      "b'Lsol'\n"
     ]
    }
   ],
   "source": [
    "print(SP1['Luminosity(1)'].attrs['units'])"
   ]
  },
  {
   "cell_type": "code",
   "execution_count": 12,
   "metadata": {},
   "outputs": [
    {
     "name": "stdout",
     "output_type": "stream",
     "text": [
      "(1000,)\n",
      "[2.10932336e+05 1.38452913e-10 1.99863778e+04 2.72636540e-05\n",
      " 4.28336626e+02]\n"
     ]
    }
   ],
   "source": [
    "L1 = SP1['Luminosity(1)'][()]\n",
    "print(L1.shape)                   # number of systems in this file\n",
    "print(L1[:5])                    # the values of the first 3 entries"
   ]
  },
  {
   "cell_type": "code",
   "execution_count": 13,
   "metadata": {},
   "outputs": [
    {
     "name": "stdout",
     "output_type": "stream",
     "text": [
      "(1000,)\n",
      "[119654.0824061    5227.74100726  18411.49503705 110124.65340296\n",
      "  57445.25704737]\n"
     ]
    }
   ],
   "source": [
    "T1 = SP1['Teff(1)'][()]\n",
    "print(T1.shape)                   # number of systems in this file\n",
    "print(T1[:5])                    # the values of the first 3 entries"
   ]
  },
  {
   "cell_type": "code",
   "execution_count": 15,
   "metadata": {},
   "outputs": [],
   "source": [
    "L2 = SP1['Luminosity(2)'][()]\n",
    "T2 = SP1['Teff(2)'][()]"
   ]
  },
  {
   "cell_type": "code",
   "execution_count": 17,
   "metadata": {},
   "outputs": [
    {
     "name": "stdout",
     "output_type": "stream",
     "text": [
      "(1000,)\n",
      "[2.27069894e+00 7.33504702e+01 7.62036634e+05 2.39105296e+00\n",
      " 3.08871036e+05]\n",
      "(1000,)\n",
      "[  3635.50812386 206541.20910819   3679.9961829    3469.97714892\n",
      "   3704.79652713]\n"
     ]
    }
   ],
   "source": [
    "Lss = SP2['Luminosity'][()]\n",
    "print(Lss.shape)                   # number of systems in this file\n",
    "print(Lss[:5])                    # the values of the first 3 entries\n",
    "Tss = SP2['Teff'][()]\n",
    "print(Tss.shape)                   # number of systems in this file\n",
    "print(Tss[:5])                    # the values of the first 3 entries"
   ]
  },
  {
   "cell_type": "code",
   "execution_count": 29,
   "metadata": {},
   "outputs": [
    {
     "data": {
      "image/png": "[encoded data removed]",
      "text/plain": [
       "<Figure size 640x480 with 1 Axes>"
      ]
     },
     "metadata": {},
     "output_type": "display_data"
    }
   ],
   "source": [
    "plt.scatter(T1+T2, L1+L2)\n",
    "plt.scatter(Tss, Lss)\n",
    "plt.gca().invert_xaxis()\n",
    "plt.title('HRD')\n",
    "plt.xlabel('Effective temperature (K)')\n",
    "plt.ylabel('Luminosity (Lsun)')\n",
    "plt.yscale('log')"
   ]
  },
  {
   "cell_type": "code",
   "execution_count": null,
   "metadata": {},
   "outputs": [],
   "source": []
  }
 ],
 "metadata": {
  "kernelspec": {
   "display_name": "Python 3",
   "language": "python",
   "name": "python3"
  },
  "language_info": {
   "codemirror_mode": {
    "name": "ipython",
    "version": 3
   },
   "file_extension": ".py",
   "mimetype": "text/x-python",
   "name": "python",
   "nbconvert_exporter": "python",
   "pygments_lexer": "ipython3",
   "version": "3.9.13"
  }
 },
 "nbformat": 4,
 "nbformat_minor": 4
}

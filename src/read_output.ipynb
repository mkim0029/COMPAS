{
 "cells": [
  {
   "cell_type": "code",
   "execution_count": 1,
   "metadata": {
    "scrolled": true
   },
   "outputs": [
    {
     "name": "stdout",
     "output_type": "stream",
     "text": [
      "Defaulting to user installation because normal site-packages is not writeable\n",
      "Requirement already satisfied: numpy in /home/minjihkim/.local/lib/python3.10/site-packages (1.26.4)\n",
      "Requirement already satisfied: h5py in /home/minjihkim/.local/lib/python3.10/site-packages (3.11.0)\n",
      "Requirement already satisfied: pandas in /home/minjihkim/.local/lib/python3.10/site-packages (2.2.2)\n",
      "Requirement already satisfied: tzdata>=2022.7 in /home/minjihkim/.local/lib/python3.10/site-packages (from pandas) (2024.1)\n",
      "Requirement already satisfied: python-dateutil>=2.8.2 in /home/minjihkim/.local/lib/python3.10/site-packages (from pandas) (2.9.0.post0)\n",
      "Requirement already satisfied: pytz>=2020.1 in /usr/lib/python3/dist-packages (from pandas) (2022.1)\n",
      "Requirement already satisfied: six>=1.5 in /usr/lib/python3/dist-packages (from python-dateutil>=2.8.2->pandas) (1.16.0)\n"
     ]
    }
   ],
   "source": [
    "! pip install numpy h5py pandas"
   ]
  },
  {
   "cell_type": "code",
   "execution_count": 2,
   "metadata": {},
   "outputs": [],
   "source": [
    "import os, sys    # for handling paths\n",
    "import h5py as h5  #for handling data format\n",
    "import matplotlib.pyplot as plt"
   ]
  },
  {
   "cell_type": "markdown",
   "metadata": {},
   "source": [
    "Load the data (in h5 format)"
   ]
  },
  {
   "cell_type": "code",
   "execution_count": 3,
   "metadata": {},
   "outputs": [],
   "source": [
    "Data1  = h5.File('COMPAS_Output.h5')"
   ]
  },
  {
   "cell_type": "markdown",
   "metadata": {},
   "source": [
    "Inspect the data"
   ]
  },
  {
   "cell_type": "code",
   "execution_count": 4,
   "metadata": {},
   "outputs": [
    {
     "data": {
      "text/plain": [
       "['BSE_Common_Envelopes',\n",
       " 'BSE_Double_Compact_Objects',\n",
       " 'BSE_RLOF',\n",
       " 'BSE_System_Parameters',\n",
       " 'Run_Details']"
      ]
     },
     "execution_count": 4,
     "metadata": {},
     "output_type": "execute_result"
    }
   ],
   "source": [
    "list(Data1.keys())"
   ]
  },
  {
   "cell_type": "code",
   "execution_count": 5,
   "metadata": {},
   "outputs": [
    {
     "name": "stdout",
     "output_type": "stream",
     "text": [
      "(7035,)\n",
      "[1 1 1 1 1]\n"
     ]
    }
   ],
   "source": [
    "CE1 = Data1['BSE_Common_Envelopes']\n",
    "list(CE1.keys())\n",
    "merger = CE1['Merger'][()]\n",
    "print(merger.shape)                   # number of systems in this file\n",
    "print(merger[:5])                    # the values of the first 3 entries"
   ]
  },
  {
   "cell_type": "code",
   "execution_count": 6,
   "metadata": {},
   "outputs": [],
   "source": [
    "SP1 = Data1['BSE_System_Parameters']"
   ]
  },
  {
   "cell_type": "code",
   "execution_count": 7,
   "metadata": {},
   "outputs": [
    {
     "data": {
      "text/plain": [
       "['ID',\n",
       " 'Luminosity(1)',\n",
       " 'Luminosity(2)',\n",
       " 'Mass@ZAMS(1)',\n",
       " 'Mass@ZAMS(2)',\n",
       " 'Record_Type',\n",
       " 'SEED',\n",
       " 'Teff(1)',\n",
       " 'Teff(2)']"
      ]
     },
     "execution_count": 7,
     "metadata": {},
     "output_type": "execute_result"
    }
   ],
   "source": [
    "list(SP1.keys())"
   ]
  },
  {
   "cell_type": "markdown",
   "metadata": {},
   "source": [
    "Finding the unit of a parameter"
   ]
  },
  {
   "cell_type": "code",
   "execution_count": 8,
   "metadata": {},
   "outputs": [
    {
     "name": "stdout",
     "output_type": "stream",
     "text": [
      "b'K'\n"
     ]
    }
   ],
   "source": [
    "print(SP1['Teff(1)'].attrs['units']) # attrs refers to attributes"
   ]
  },
  {
   "cell_type": "code",
   "execution_count": 9,
   "metadata": {},
   "outputs": [
    {
     "name": "stdout",
     "output_type": "stream",
     "text": [
      "b'Lsol'\n"
     ]
    }
   ],
   "source": [
    "print(SP1['Luminosity(1)'].attrs['units'])"
   ]
  },
  {
   "cell_type": "code",
   "execution_count": 10,
   "metadata": {},
   "outputs": [
    {
     "name": "stdout",
     "output_type": "stream",
     "text": [
      "(1000,)\n",
      "[2.85990019e-03 2.98030991e+03 2.66177705e-04 4.30871628e-03\n",
      " 2.10066078e+04]\n"
     ]
    }
   ],
   "source": [
    "L1 = SP1['Luminosity(1)'][()]\n",
    "print(L1.shape)                   # number of systems in this file\n",
    "print(L1[:5])                    # the values of the first 3 entries"
   ]
  },
  {
   "cell_type": "code",
   "execution_count": 11,
   "metadata": {},
   "outputs": [
    {
     "name": "stdout",
     "output_type": "stream",
     "text": [
      "(1000,)\n",
      "[352432.74969457  71865.29278679  13120.53041343  17641.87363253\n",
      "  21735.85796817]\n"
     ]
    }
   ],
   "source": [
    "T1 = SP1['Teff(1)'][()]\n",
    "print(T1.shape)                   # number of systems in this file\n",
    "print(T1[:5])                    # the values of the first 3 entries"
   ]
  },
  {
   "cell_type": "code",
   "execution_count": 12,
   "metadata": {},
   "outputs": [],
   "source": [
    "L2 = SP1['Luminosity(2)'][()]\n",
    "T2 = SP1['Teff(2)'][()]"
   ]
  },
  {
   "cell_type": "code",
   "execution_count": 14,
   "metadata": {},
   "outputs": [
    {
     "data": {
      "image/png": "[encoded data removed]",
      "text/plain": [
       "<Figure size 640x480 with 1 Axes>"
      ]
     },
     "metadata": {},
     "output_type": "display_data"
    }
   ],
   "source": [
    "plt.scatter(T1, L1, s=0.3)\n",
    "plt.xlim((0,0.3e6))\n",
    "plt.gca().invert_xaxis()\n",
    "plt.title('HRD')\n",
    "plt.xlabel('Effective temperature (K)')\n",
    "plt.ylabel('Luminosity (Lsun)')\n",
    "plt.yscale('log')\n"
   ]
  },
  {
   "cell_type": "code",
   "execution_count": null,
   "metadata": {},
   "outputs": [],
   "source": []
  }
 ],
 "metadata": {
  "kernelspec": {
   "display_name": "Python 3",
   "language": "python",
   "name": "python3"
  },
  "language_info": {
   "codemirror_mode": {
    "name": "ipython",
    "version": 3
   },
   "file_extension": ".py",
   "mimetype": "text/x-python",
   "name": "python",
   "nbconvert_exporter": "python",
   "pygments_lexer": "ipython3",
   "version": "3.10.12"
  }
 },
 "nbformat": 4,
 "nbformat_minor": 4
}

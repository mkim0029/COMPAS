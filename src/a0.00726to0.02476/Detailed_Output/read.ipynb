{
 "cells": [
  {
   "cell_type": "code",
   "execution_count": 6,
   "metadata": {},
   "outputs": [],
   "source": [
    "import os, sys    # for handling paths\n",
    "import h5py as h5  #for handling data format\n",
    "import matplotlib.pyplot as plt\n",
    "import pandas as pd\n",
    "import numpy as np\n",
    "import seaborn as sns"
   ]
  },
  {
   "cell_type": "code",
   "execution_count": 7,
   "metadata": {},
   "outputs": [],
   "source": [
    "M1_init = 1 #Msun, primary\n",
    "M2_init = 0.7 #Msun, secondary"
   ]
  },
  {
   "cell_type": "code",
   "execution_count": 8,
   "metadata": {},
   "outputs": [],
   "source": [
    "ZAMS_merger_a = []\n",
    "overcontact_a = []\n",
    "MS_merger_a = []\n",
    "beyond_MS_merger_a = []\n",
    "no_merger_a = []\n",
    "MS_MT_a = []\n",
    "non_MS_MT_a = []\n",
    "no_MT_a = []\n",
    "MS_types = [0,1]\n",
    "\n",
    "for n in range(29,100):\n",
    "    df = pd.read_csv('BSE_Detailed_Output_'+str(n)+'.csv', sep = ',', header = 2)\n",
    "    M1_0 = float(df['        Mass(1)         '][0])\n",
    "    M2_0 = float(df['        Mass(2)         '][0])\n",
    "    a_0 = float(df['     SemiMajorAxis      '][0])\n",
    "    if M1_0 == M2_0 and M1_0 == (M1_init+M2_init)/2:\n",
    "        R1_0 = float(df['       Radius(1)        '][0])\n",
    "        R2_0 = float(df['       Radius(2)        '][0])\n",
    "        '''\n",
    "        if R1_0 + R2_0 < a_0:\n",
    "            ZAMS_merger_a.append(a_0)\n",
    "        else:\n",
    "            overcontact_a.append(a_0)\n",
    "        '''\n",
    "        if df['Stellar_Type(1)'][0] == 16: #chemically homogeneous evolution\n",
    "            ZAMS_merger_a.append(a_0)\n",
    "        else:\n",
    "            overcontact_a.append(a_0)\n",
    "    else:\n",
    "        merged = False\n",
    "        MT = False\n",
    "        for i in range(df.shape[0]):\n",
    "            type2 = int(df['Stellar_Type(2)'][i])\n",
    "            type1 = int(df['Stellar_Type(1)'][i])\n",
    "            if type2 == 15: #mass-less remnant\n",
    "                if type1 in MS_types:\n",
    "                    MS_merger_a.append(a_0)\n",
    "                else:\n",
    "                    beyond_MS_merger_a.append(a_0)\n",
    "                merged = True\n",
    "                break\n",
    "            if not MT and int(df['MT_History'][i]): #if != 0, there was a mass transfer\n",
    "                if type1 in MS_types:\n",
    "                    MS_MT_a.append(a_0)\n",
    "                else:\n",
    "                    non_MS_MT_a.append(a_0)\n",
    "                MT = True\n",
    "        if not merged:\n",
    "            no_merger_a.append(a_0)\n",
    "        if not MT:\n",
    "            no_MT_a.append(a_0)"
   ]
  },
  {
   "cell_type": "markdown",
   "metadata": {},
   "source": [
    "Initial semi-major axis resolution:\n",
    "\n",
    "From 0.00001 to 1 AU = 0.01 AU\n",
    "\n",
    "From 1 AU to 10 AU = 1 AU"
   ]
  },
  {
   "cell_type": "code",
   "execution_count": 9,
   "metadata": {},
   "outputs": [
    {
     "name": "stdout",
     "output_type": "stream",
     "text": [
      "Initial (i.e. ZAMS) semi-major axis (in Rsol) for: \n",
      "No ZAMS merger\n",
      "Overcontact binaries at ZAMS:  1.561132530690446  to  2.206228617752614\n",
      "MS merger (excluding ZAMS merger and overcontact binaries):  2.259986625007795  to  4.30279090070466\n",
      "No mergers following Cases B and C\n",
      "Mass transfer from MS donor:  2.259986625007795  to  4.517822929725383\n",
      "Mass transfer from non-MS donor:  4.571580936980563  to  5.324193038553092\n",
      "No merger throughout the evolution:  2.69005068304924  to  5.324193038553092\n"
     ]
    }
   ],
   "source": [
    "print(\"Initial (i.e. ZAMS) semi-major axis (in Rsol) for: \")\n",
    "if ZAMS_merger_a != []:\n",
    "    print(\"ZAMS merger: \", ZAMS_merger_a[0], \" to \", ZAMS_merger_a[-1])\n",
    "else: \n",
    "    print(\"No ZAMS merger\")\n",
    "if overcontact_a != []:\n",
    "    print(\"Overcontact binaries at ZAMS: \", overcontact_a[0], \" to \", overcontact_a[-1])\n",
    "else:\n",
    "    print(\"No overcontact systems at ZAMS\")\n",
    "if MS_merger_a != []:\n",
    "    print(\"MS merger (excluding ZAMS merger and overcontact binaries): \", MS_merger_a[0], \" to \", MS_merger_a[-1])\n",
    "else:\n",
    "    print(\"No MS mergers (excluding ZAMS merger and overcontact binaries)\")\n",
    "if beyond_MS_merger_a != []:\n",
    "    print(\"Merger following Cases B and C: \", beyond_MS_merger_a[0], \" to \", beyond_MS_merger_a[-1])\n",
    "else:\n",
    "    print(\"No mergers following Cases B and C\")\n",
    "if MS_MT_a != []:\n",
    "    print(\"Mass transfer from MS donor: \", MS_MT_a[0], \" to \", MS_MT_a[-1])\n",
    "else:\n",
    "    print(\"No Mass transfer occurred from MS donor\")\n",
    "if non_MS_MT_a != []:\n",
    "    print(\"Mass transfer from non-MS donor: \", non_MS_MT_a[0], \" to \", non_MS_MT_a[-1])\n",
    "else:\n",
    "    print(\"No Mass transfer occurred from non-MS donor\")\n",
    "if no_merger_a != []:\n",
    "    print(\"No merger throughout the evolution: \", no_merger_a[0], \" to \", no_merger_a[-1])\n",
    "if no_MT_a != []:\n",
    "    print(\"No mass transfer throughout the evolution: \", no_MT_a[0], \" to \", no_MT_a[-1])"
   ]
  }
 ],
 "metadata": {
  "kernelspec": {
   "display_name": "Python 3",
   "language": "python",
   "name": "python3"
  },
  "language_info": {
   "codemirror_mode": {
    "name": "ipython",
    "version": 3
   },
   "file_extension": ".py",
   "mimetype": "text/x-python",
   "name": "python",
   "nbconvert_exporter": "python",
   "pygments_lexer": "ipython3",
   "version": "3.9.13"
  }
 },
 "nbformat": 4,
 "nbformat_minor": 4
}

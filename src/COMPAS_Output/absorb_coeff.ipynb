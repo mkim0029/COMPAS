{
 "cells": [
  {
   "cell_type": "code",
   "execution_count": 1,
   "metadata": {},
   "outputs": [
    {
     "name": "stdout",
     "output_type": "stream",
     "text": [
      "Requirement already satisfied: numpy in c:\\users\\minji\\anaconda3\\lib\\site-packages (1.21.5)\n",
      "Requirement already satisfied: h5py in c:\\users\\minji\\anaconda3\\lib\\site-packages (3.7.0)\n",
      "Requirement already satisfied: pandas in c:\\users\\minji\\anaconda3\\lib\\site-packages (1.4.4)\n",
      "Requirement already satisfied: pytz>=2020.1 in c:\\users\\minji\\anaconda3\\lib\\site-packages (from pandas) (2022.1)\n",
      "Requirement already satisfied: python-dateutil>=2.8.1 in c:\\users\\minji\\anaconda3\\lib\\site-packages (from pandas) (2.8.2)\n",
      "Requirement already satisfied: six>=1.5 in c:\\users\\minji\\anaconda3\\lib\\site-packages (from python-dateutil>=2.8.1->pandas) (1.16.0)\n"
     ]
    }
   ],
   "source": [
    "! pip install numpy h5py pandas"
   ]
  },
  {
   "cell_type": "code",
   "execution_count": 54,
   "metadata": {},
   "outputs": [],
   "source": [
    "import h5py as h5  #for handling data format\n",
    "import pandas as pd\n",
    "import numpy as np\n",
    "import matplotlib.pyplot as plt"
   ]
  },
  {
   "cell_type": "code",
   "execution_count": 3,
   "metadata": {},
   "outputs": [],
   "source": [
    "Data_SSE  = h5.File('COMPAS_Output_SSE.h5')"
   ]
  },
  {
   "cell_type": "code",
   "execution_count": 4,
   "metadata": {},
   "outputs": [
    {
     "data": {
      "text/plain": [
       "['Run_Details', 'SSE_Supernovae', 'SSE_System_Parameters']"
      ]
     },
     "execution_count": 4,
     "metadata": {},
     "output_type": "execute_result"
    }
   ],
   "source": [
    "list(Data_SSE.keys())"
   ]
  },
  {
   "cell_type": "code",
   "execution_count": 5,
   "metadata": {},
   "outputs": [
    {
     "data": {
      "text/plain": [
       "['Ang_Momentum',\n",
       " 'CH_on_MS',\n",
       " 'Evolution_Status',\n",
       " 'Luminosity',\n",
       " 'Mass',\n",
       " 'Mass@ZAMS',\n",
       " 'Mass_Env',\n",
       " 'Metallicity@ZAMS',\n",
       " 'Omega@ZAMS',\n",
       " 'PO_LBV_Factor',\n",
       " 'PO_Sigma_Kick_CCSN_BH',\n",
       " 'PO_Sigma_Kick_CCSN_NS',\n",
       " 'PO_Sigma_Kick_ECSN',\n",
       " 'PO_Sigma_Kick_USSN',\n",
       " 'PO_WR_Factor',\n",
       " 'Radius@ZAMS',\n",
       " 'Record_Type',\n",
       " 'SEED',\n",
       " 'SN_Kick_Magnitude_Random_Number',\n",
       " 'Stellar_Type',\n",
       " 'Stellar_Type@ZAMS',\n",
       " 'Teff']"
      ]
     },
     "execution_count": 5,
     "metadata": {},
     "output_type": "execute_result"
    }
   ],
   "source": [
    "SP_SSE = Data_SSE['SSE_System_Parameters']\n",
    "list(SP_SSE.keys())"
   ]
  },
  {
   "cell_type": "code",
   "execution_count": 7,
   "metadata": {},
   "outputs": [
    {
     "name": "stdout",
     "output_type": "stream",
     "text": [
      "b'K'\n",
      "b'Lsol'\n"
     ]
    }
   ],
   "source": [
    "print(SP_SSE['Teff'].attrs['units']) # attrs refers to attributes\n",
    "print(SP_SSE['Luminosity'].attrs['units'])"
   ]
  },
  {
   "cell_type": "code",
   "execution_count": 8,
   "metadata": {},
   "outputs": [
    {
     "name": "stdout",
     "output_type": "stream",
     "text": [
      "(75000,)\n",
      "[ 0.44208346  5.90186228 93.60656714  2.75878624  4.24579915]\n",
      "(75000,)\n",
      "[ 5378.08264143  7818.78582496 13344.80882652  6819.88165121\n",
      "  7305.052703  ]\n"
     ]
    }
   ],
   "source": [
    "L_SSE = SP_SSE['Luminosity'][()]\n",
    "print(L_SSE.shape)                   # number of systems in this file\n",
    "print(L_SSE[:5])                    # the values of the first 3 entries\n",
    "T_SSE = SP_SSE['Teff'][()]\n",
    "print(T_SSE.shape)                   # number of systems in this file\n",
    "print(T_SSE[:5])                    # the values of the first 3 entries"
   ]
  },
  {
   "cell_type": "code",
   "execution_count": 9,
   "metadata": {},
   "outputs": [],
   "source": [
    "def restrict(df, col, lower_limit, upper_limit):\n",
    "    mask = (df[col] >= lower_limit) & (df[col] <= upper_limit)\n",
    "    return df[mask]"
   ]
  },
  {
   "cell_type": "code",
   "execution_count": 10,
   "metadata": {},
   "outputs": [],
   "source": [
    "SSE_file = pd.DataFrame({\n",
    "           'L': np.log10(L_SSE),\n",
    "           'Teff': T_SSE,\n",
    "           'M': SP_SSE['Mass'][()],\n",
    "           'Z': SP_SSE['Metallicity@ZAMS'][()],\n",
    "           'type': SP_SSE['Stellar_Type'][()]\n",
    "})\n",
    "SSE_file = restrict(SSE_file, 'type', 0, 1) #MS stars only"
   ]
  },
  {
   "cell_type": "code",
   "execution_count": 11,
   "metadata": {},
   "outputs": [],
   "source": [
    "SSE_file.head(100).to_csv('SSE.txt', sep='\\t', index=False)"
   ]
  },
  {
   "cell_type": "code",
   "execution_count": 48,
   "metadata": {},
   "outputs": [],
   "source": [
    "with open('output_YBC.txt') as f:\n",
    "    lines = f.readlines()\n",
    "    labels = list(lines[0].split(\" \"))[:-1]\n",
    "    df = []\n",
    "    for i in range(1,len(lines)):\n",
    "        if i%2:\n",
    "            numbers_str = lines[i].split()\n",
    "            x = np.array([float(num) for num in numbers_str])\n",
    "            df.append(x)\n",
    "    df = pd.DataFrame(df, columns=labels)\n",
    "    df = df.apply(pd.to_numeric)"
   ]
  },
  {
   "cell_type": "code",
   "execution_count": 49,
   "metadata": {},
   "outputs": [
    {
     "data": {
      "text/html": [
       "<div>\n",
       "<style scoped>\n",
       "    .dataframe tbody tr th:only-of-type {\n",
       "        vertical-align: middle;\n",
       "    }\n",
       "\n",
       "    .dataframe tbody tr th {\n",
       "        vertical-align: top;\n",
       "    }\n",
       "\n",
       "    .dataframe thead th {\n",
       "        text-align: right;\n",
       "    }\n",
       "</style>\n",
       "<table border=\"1\" class=\"dataframe\">\n",
       "  <thead>\n",
       "    <tr style=\"text-align: right;\">\n",
       "      <th></th>\n",
       "      <th>Label</th>\n",
       "      <th>F218W1</th>\n",
       "      <th>F225W1</th>\n",
       "      <th>F275W1</th>\n",
       "      <th>F336W</th>\n",
       "      <th>F390W</th>\n",
       "      <th>F438W</th>\n",
       "      <th>F475W</th>\n",
       "      <th>F555W</th>\n",
       "      <th>F606W</th>\n",
       "      <th>F625W</th>\n",
       "      <th>F775W</th>\n",
       "      <th>F814W</th>\n",
       "      <th>F105W</th>\n",
       "      <th>F110W</th>\n",
       "      <th>F125W</th>\n",
       "      <th>F140W</th>\n",
       "      <th>F160W</th>\n",
       "    </tr>\n",
       "  </thead>\n",
       "  <tbody>\n",
       "    <tr>\n",
       "      <th>0</th>\n",
       "      <td>1.0</td>\n",
       "      <td>3.99349</td>\n",
       "      <td>3.89448</td>\n",
       "      <td>3.58062</td>\n",
       "      <td>3.15507</td>\n",
       "      <td>3.24678</td>\n",
       "      <td>3.21245</td>\n",
       "      <td>3.09936</td>\n",
       "      <td>2.98392</td>\n",
       "      <td>2.88692</td>\n",
       "      <td>2.82097</td>\n",
       "      <td>2.67112</td>\n",
       "      <td>2.65731</td>\n",
       "      <td>2.56845</td>\n",
       "      <td>2.53007</td>\n",
       "      <td>2.47433</td>\n",
       "      <td>2.42446</td>\n",
       "      <td>2.38483</td>\n",
       "    </tr>\n",
       "    <tr>\n",
       "      <th>1</th>\n",
       "      <td>1.0</td>\n",
       "      <td>-0.06302</td>\n",
       "      <td>-0.05861</td>\n",
       "      <td>-0.03155</td>\n",
       "      <td>0.14256</td>\n",
       "      <td>0.65616</td>\n",
       "      <td>0.81921</td>\n",
       "      <td>0.84038</td>\n",
       "      <td>0.86347</td>\n",
       "      <td>0.87586</td>\n",
       "      <td>0.88965</td>\n",
       "      <td>0.92681</td>\n",
       "      <td>0.93890</td>\n",
       "      <td>1.02817</td>\n",
       "      <td>1.03618</td>\n",
       "      <td>1.05166</td>\n",
       "      <td>1.06187</td>\n",
       "      <td>1.07303</td>\n",
       "    </tr>\n",
       "    <tr>\n",
       "      <th>2</th>\n",
       "      <td>1.0</td>\n",
       "      <td>5.58215</td>\n",
       "      <td>5.39683</td>\n",
       "      <td>4.80006</td>\n",
       "      <td>4.02378</td>\n",
       "      <td>4.24438</td>\n",
       "      <td>4.22924</td>\n",
       "      <td>4.04023</td>\n",
       "      <td>3.85279</td>\n",
       "      <td>3.68646</td>\n",
       "      <td>3.57937</td>\n",
       "      <td>3.32195</td>\n",
       "      <td>3.29296</td>\n",
       "      <td>3.13511</td>\n",
       "      <td>3.06536</td>\n",
       "      <td>2.97238</td>\n",
       "      <td>2.87473</td>\n",
       "      <td>2.79126</td>\n",
       "    </tr>\n",
       "  </tbody>\n",
       "</table>\n",
       "</div>"
      ],
      "text/plain": [
       "   Label   F218W1   F225W1   F275W1    F336W    F390W    F438W    F475W  \\\n",
       "0    1.0  3.99349  3.89448  3.58062  3.15507  3.24678  3.21245  3.09936   \n",
       "1    1.0 -0.06302 -0.05861 -0.03155  0.14256  0.65616  0.81921  0.84038   \n",
       "2    1.0  5.58215  5.39683  4.80006  4.02378  4.24438  4.22924  4.04023   \n",
       "\n",
       "     F555W    F606W    F625W    F775W    F814W    F105W    F110W    F125W  \\\n",
       "0  2.98392  2.88692  2.82097  2.67112  2.65731  2.56845  2.53007  2.47433   \n",
       "1  0.86347  0.87586  0.88965  0.92681  0.93890  1.02817  1.03618  1.05166   \n",
       "2  3.85279  3.68646  3.57937  3.32195  3.29296  3.13511  3.06536  2.97238   \n",
       "\n",
       "     F140W    F160W  \n",
       "0  2.42446  2.38483  \n",
       "1  1.06187  1.07303  \n",
       "2  2.87473  2.79126  "
      ]
     },
     "execution_count": 49,
     "metadata": {},
     "output_type": "execute_result"
    }
   ],
   "source": [
    "df.head(3)"
   ]
  },
  {
   "cell_type": "code",
   "execution_count": null,
   "metadata": {},
   "outputs": [],
   "source": []
  },
  {
   "cell_type": "code",
   "execution_count": 50,
   "metadata": {},
   "outputs": [],
   "source": [
    "def convert_to_mag(L, BC_F, A_coeff):\n",
    "    # ref: https://www.nature.com/articles/s41550-021-01597-5#Sec2\n",
    "    M_bol = 4.74 - 2.5*np.log10(L)\n",
    "    M_F = M_bol - BC_F\n",
    "    return M_F +  A_coeff * 0.14 + 18.29 #E(B-V) + (m-M)"
   ]
  },
  {
   "cell_type": "code",
   "execution_count": 61,
   "metadata": {},
   "outputs": [
    {
     "name": "stderr",
     "output_type": "stream",
     "text": [
      "c:\\Users\\minji\\anaconda3\\lib\\site-packages\\pandas\\core\\arraylike.py:397: RuntimeWarning: invalid value encountered in log10\n",
      "  result = getattr(ufunc, method)(*inputs, **kwargs)\n"
     ]
    }
   ],
   "source": [
    "simul_mF814W_SSE = convert_to_mag(SSE_file.L, np.mean(df.F814W), 2.04)\n",
    "simul_mF336W_SSE = convert_to_mag(SSE_file.L, np.mean(df.F336W), 5.16)"
   ]
  },
  {
   "cell_type": "code",
   "execution_count": 62,
   "metadata": {},
   "outputs": [
    {
     "data": {
      "image/png": "[encoded data removed]",
      "text/plain": [
       "<Figure size 640x480 with 1 Axes>"
      ]
     },
     "metadata": {},
     "output_type": "display_data"
    }
   ],
   "source": [
    "plt.scatter(simul_mF336W_SSE - simul_mF814W_SSE, simul_mF814W_SSE, s = 0.5)\n",
    "plt.title('NGC 1755 CMD')\n",
    "plt.xlabel(r'$m_{F336W}-m_{F814W}$')\n",
    "plt.ylabel(r'$m_{F814W}$')\n",
    "plt.gca().invert_yaxis()"
   ]
  },
  {
   "cell_type": "code",
   "execution_count": 60,
   "metadata": {},
   "outputs": [
    {
     "data": {
      "text/plain": [
       "<matplotlib.legend.Legend at 0x28c5f6f5dc0>"
      ]
     },
     "execution_count": 60,
     "metadata": {},
     "output_type": "execute_result"
    },
    {
     "data": {
      "image/png": "[encoded data removed]",
      "text/plain": [
       "<Figure size 640x480 with 1 Axes>"
      ]
     },
     "metadata": {},
     "output_type": "display_data"
    }
   ],
   "source": [
    "plt.scatter(SSE_file.Teff, SSE_file.L, label = 'Single', s = 0.5)\n",
    "plt.gca().invert_xaxis()\n",
    "plt.title('NGC 1755 HRD')\n",
    "plt.xlabel('Effective temperature (K)')\n",
    "plt.ylabel('Luminosity (Lsun)')\n",
    "plt.yscale('log')\n",
    "plt.legend()\n"
   ]
  },
  {
   "cell_type": "code",
   "execution_count": null,
   "metadata": {},
   "outputs": [],
   "source": []
  }
 ],
 "metadata": {
  "kernelspec": {
   "display_name": "Python 3",
   "language": "python",
   "name": "python3"
  },
  "language_info": {
   "codemirror_mode": {
    "name": "ipython",
    "version": 3
   },
   "file_extension": ".py",
   "mimetype": "text/x-python",
   "name": "python",
   "nbconvert_exporter": "python",
   "pygments_lexer": "ipython3",
   "version": "3.9.13"
  }
 },
 "nbformat": 4,
 "nbformat_minor": 2
}
